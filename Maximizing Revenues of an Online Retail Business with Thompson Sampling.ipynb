{
 "cells": [
  {
   "cell_type": "code",
   "execution_count": 122,
   "metadata": {},
   "outputs": [],
   "source": [
    "import pandas as pd\n",
    "import numpy as np\n",
    "import random\n",
    "import seaborn as sns\n",
    "import matplotlib.pyplot as plt\n",
    "%matplotlib inline"
   ]
  },
  {
   "cell_type": "code",
   "execution_count": 123,
   "metadata": {},
   "outputs": [],
   "source": [
    "#setting up the parameters\n",
    "N = 10000 #total number of rounds in which customers connect to the online website\n",
    "d = 9 # number of strategies"
   ]
  },
  {
   "cell_type": "code",
   "execution_count": 124,
   "metadata": {},
   "outputs": [],
   "source": [
    "#creating simulation \n",
    "conversion_rate=[0.05,0.13,0.09,0.16,0.11,0.04,0.2,0.08,0.01]#placing conversion rates in a list"
   ]
  },
  {
   "cell_type": "code",
   "execution_count": 135,
   "metadata": {},
   "outputs": [],
   "source": [
    "X = np.array(np.zeros([N,d])) #generating a simulation over 10K rounds. #Using a Bernouli distribution. N is 10K rows, d is 9 columns\n",
    "# make a for loop to loop over rows, then loop again over the columns\n",
    "for i in range(N):\n",
    "    for j in range(d):\n",
    "        if np.random.rand() <= conversion_rate[j]:\n",
    "            X[i,j] = 1"
   ]
  },
  {
   "cell_type": "code",
   "execution_count": 126,
   "metadata": {},
   "outputs": [
    {
     "data": {
      "text/plain": [
       "array([[0., 0., 0., ..., 0., 0., 0.],\n",
       "       [0., 0., 0., ..., 0., 0., 0.],\n",
       "       [0., 0., 0., ..., 1., 0., 0.],\n",
       "       ...,\n",
       "       [0., 1., 0., ..., 0., 1., 0.],\n",
       "       [0., 0., 0., ..., 0., 0., 0.],\n",
       "       [0., 1., 0., ..., 0., 0., 0.]])"
      ]
     },
     "execution_count": 126,
     "metadata": {},
     "output_type": "execute_result"
    }
   ],
   "source": [
    "X"
   ]
  },
  {
   "cell_type": "markdown",
   "metadata": {},
   "source": [
    "# Implementing a Random Strategy and Thompson Sampling"
   ]
  },
  {
   "cell_type": "code",
   "execution_count": 152,
   "metadata": {},
   "outputs": [],
   "source": [
    "# Implementing a Random Strategy and Thompson Sampling\n",
    "strategies_selected_rs = [] #list of strategies selected over a round randomly\n",
    "strategies_selected_ts = [] #thompson sampling strategy\n",
    "total_reward_rs = 0\n",
    "total_reward_ts = 0\n",
    "numbers_of_rewards_1 = [0] *d #the number of times strategy has recieved a one award up until round n\n",
    "numbers_of_rewards_0 = [0] *d #the number of times a strategy has received a zero award up until round n\n",
    "# Big for loop!\n",
    "for n in range(0,N):\n",
    "    strategy_rs=random.randrange(d) # Random Strategy\n",
    "    strategies_selected_rs.append(strategy_rs)\n",
    "    reward_rs = X[n, strategy_rs]\n",
    "    total_reward_rs = total_reward_rs + reward_rs #total_reward_rs += reward_rs\n",
    "    strategy_ts = 0 #Thompson Sampling\n",
    "    max_random = 0 \n",
    "    for i in range (0, d):#step 1 will loop over all nine strategies\n",
    "        random_beta = random.betavariate(numbers_of_rewards_1[i] +1,numbers_of_rewards_0[i] +1) #Gives us the random draw from distributions for each of our 9 strategies\n",
    "        if random_beta >max_random: #if new random beta is larger than the old random beta, update max random to new one\n",
    "            max_random = random_beta #a more practical way to get max random than making list, getting random betas, using argmax to get maximum\n",
    "            strategy_ts = i #step 2 get the strategy that has the maximum of random draws\n",
    "# Step 3 of algorithm \n",
    "#get out of the previous for loop, update the number of times strategies have received reward one, reward zero up to round n\n",
    "#check reward for the strategy, update number for specific strategy selected in step 2, do the same for zero reward\n",
    "        reward_ts =X[n,strategy_ts] #get this from matrix of rewards created in simulation\n",
    "#implement 2 conditions to get a number\n",
    "        if reward_ts == 1:\n",
    "            numbers_of_rewards_1[strategy_ts] = numbers_of_rewards_1[strategy_ts] + 1 # or numbers_of_rewards_1[strategy_ts] +=1\n",
    "        else:\n",
    "            numbers_of_rewards_0[strategy_ts] = numbers_of_rewards_0[strategy_ts] + 1 # numbers_of_rewards_0[strategy_ts] +=1  #only element of list corresponding to strategy selected\n",
    "        strategies_selected_ts.append(strategy_ts)\n",
    "        total_reward_ts = total_reward_ts + reward_ts\n",
    "    "
   ]
  },
  {
   "cell_type": "code",
   "execution_count": 153,
   "metadata": {},
   "outputs": [
    {
     "name": "stdout",
     "output_type": "stream",
     "text": [
      "The Absolute Return: 1269700 $\n",
      "\n",
      "\n",
      "The Relative Return: 1274 %\n"
     ]
    }
   ],
   "source": [
    "#Computing the Absolute and Relative Return(RR)\n",
    "#RR is the return an asset (i.e Thompson sampling) achieves over a period of time compared to a benchmark(i.e random strategy)\n",
    "#By what percentage more does it achieve this?\n",
    "absolute_return = (total_reward_ts - total_reward_rs) * 100\n",
    "relative_return = ((total_reward_ts - total_reward_rs) / total_reward_rs) * 100\n",
    "print(\"The Absolute Return: {:.0f} $\".format(absolute_return))\n",
    "print(\"\\n\")\n",
    "print(\"The Relative Return: {:.0f} %\".format(relative_return))"
   ]
  },
  {
   "cell_type": "code",
   "execution_count": 154,
   "metadata": {},
   "outputs": [
    {
     "data": {
      "text/plain": [
       "997.0"
      ]
     },
     "execution_count": 154,
     "metadata": {},
     "output_type": "execute_result"
    }
   ],
   "source": [
    "total_reward_rs"
   ]
  },
  {
   "cell_type": "code",
   "execution_count": 155,
   "metadata": {},
   "outputs": [
    {
     "data": {
      "image/png": "[encoded data removed]",
      "text/plain": [
       "<Figure size 432x288 with 1 Axes>"
      ]
     },
     "metadata": {
      "needs_background": "light"
     },
     "output_type": "display_data"
    }
   ],
   "source": [
    "plt.hist(strategies_selected_ts)\n",
    "plt.title('Histogram of Selections')\n",
    "plt.xlabel('Strategy')\n",
    "plt.ylabel('Number of times the strategy was selected')\n",
    "plt.show() #note strategy 6 is actually strategy number 7"
   ]
  },
  {
   "cell_type": "markdown",
   "metadata": {},
   "source": [
    "# Regret Curve of a model"
   ]
  },
  {
   "cell_type": "code",
   "execution_count": null,
   "metadata": {},
   "outputs": [],
   "source": [
    "# BTW Thompson sampling outperforms UCB algorithm as well"
   ]
  },
  {
   "cell_type": "markdown",
   "metadata": {},
   "source": [
    "# Addendum"
   ]
  },
  {
   "cell_type": "code",
   "execution_count": null,
   "metadata": {},
   "outputs": [],
   "source": [
    "conversion_rate=[0.05,0.13,0.09,0.16,0.11,0.04,0.2,0.08,0.01] # use this to demonstrate that the model works going from left to right"
   ]
  }
 ],
 "metadata": {
  "kernelspec": {
   "display_name": "Python 3",
   "language": "python",
   "name": "python3"
  },
  "language_info": {
   "codemirror_mode": {
    "name": "ipython",
    "version": 3
   },
   "file_extension": ".py",
   "mimetype": "text/x-python",
   "name": "python",
   "nbconvert_exporter": "python",
   "pygments_lexer": "ipython3",
   "version": "3.6.5"
  }
 },
 "nbformat": 4,
 "nbformat_minor": 2
}
