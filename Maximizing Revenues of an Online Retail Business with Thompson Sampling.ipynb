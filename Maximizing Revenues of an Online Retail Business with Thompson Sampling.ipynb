{
 "cells": [
  {
   "cell_type": "code",
   "execution_count": 122,
   "metadata": {},
   "outputs": [],
   "source": [
    "import pandas as pd\n",
    "import numpy as np\n",
    "import random\n",
    "import seaborn as sns\n",
    "import matplotlib.pyplot as plt\n",
    "%matplotlib inline"
   ]
  },
  {
   "cell_type": "code",
   "execution_count": 123,
   "metadata": {},
   "outputs": [],
   "source": [
    "#setting up the parameters\n",
    "N = 10000 #total number of rounds in which customers connect to the online website\n",
    "d = 9 # number of strategies (explore the number of strategies in the future)\n",
    "conversion_rate=[0.05,0.13,0.09,0.16,0.11,0.04,0.2,0.08,0.01]#placing conversion rates in a list"
   ]
  },
  {
   "cell_type": "code",
   "execution_count": 135,
   "metadata": {},
   "outputs": [],
   "source": [
    "#creating simulation \n",
    "# initially array will be composed of zeros but will be updated with ones when we get a conversion\n",
    "X = np.array(np.zeros([N,d])) #generating a simulation over 10K rounds. #Using a Bernouli distribution. N is 10K rows, d is 9 columns\n",
    "# make a for loop to loop over rows, then loop again over the columns. This will populate our array with one values.\n",
    "for i in range(N):\n",
    "    for j in range(d):\n",
    "        if np.random.rand() <= conversion_rate[j]: #if random number taken between 0 and 1 is lower than conversion rate of strategy number j\n",
    "            X[i,j] = 1 #update cell to one if the above condition is met"
   ]
  },
  {
   "cell_type": "code",
   "execution_count": 126,
   "metadata": {},
   "outputs": [
    {
     "data": {
      "text/plain": [
       "array([[0., 0., 0., ..., 0., 0., 0.],\n",
       "       [0., 0., 0., ..., 0., 0., 0.],\n",
       "       [0., 0., 0., ..., 1., 0., 0.],\n",
       "       ...,\n",
       "       [0., 1., 0., ..., 0., 1., 0.],\n",
       "       [0., 0., 0., ..., 0., 0., 0.],\n",
       "       [0., 1., 0., ..., 0., 0., 0.]])"
      ]
     },
     "execution_count": 126,
     "metadata": {},
     "output_type": "execute_result"
    }
   ],
   "source": [
    "X"
   ]
  },
  {
   "cell_type": "markdown",
   "metadata": {},
   "source": [
    "# Implementing a Random Strategy and Thompson Sampling"
   ]
  },
  {
   "cell_type": "code",
   "execution_count": 152,
   "metadata": {},
   "outputs": [],
   "source": [
    "# Implementing a Random Strategy and Thompson Sampling\n",
    "strategies_selected_rs = [] #list of strategies selected over a round randomly. Need for our strategy and benchmark\n",
    "strategies_selected_ts = [] #thompson sampling strategy\n",
    "total_reward_rs = 0  #accumulated sum of rewards over round \n",
    "total_reward_ts = 0\n",
    "numbers_of_rewards_1 = [0] *d #the number of times strategy has recieved a one award up until round n. \n",
    "numbers_of_rewards_0 = [0] *d #the number of times a strategy has received a zero award up until round n\n",
    "# Big for loop!\n",
    "for n in range(0,N):\n",
    "    strategy_rs=random.randrange(d) # Random Strategy from our random module\n",
    "    strategies_selected_rs.append(strategy_rs) #appends our first strategy randomly selected from strategies\n",
    "    reward_rs = X[n, strategy_rs] # reward received by the random strategy\n",
    "    total_reward_rs = total_reward_rs + reward_rs #total_reward_rs += reward_rs #updated by the reward we just obtained\n",
    "    strategy_ts = 0 #Thompson Sampling\n",
    "    max_random = 0 #corresponds to a maximum we are trying to get\n",
    "    for i in range (0, d):#step 1 will loop over all nine strategies\n",
    "        random_beta = random.betavariate(numbers_of_rewards_1[i] +1,numbers_of_rewards_0[i] +1) #Gives us the random draw from distributions for each of our 9 strategies\n",
    "        if random_beta >max_random: #if new random beta is larger than the old random beta, update max random to new one\n",
    "            max_random = random_beta #a more practical way to get max random than making list, getting random betas, using argmax to get maximum\n",
    "            strategy_ts = i #step 2 get the strategy that has the maximum of random draws\n",
    "# Step 3 of algorithm \n",
    "#get out of the previous for loop, update the number of times strategies have received reward one, reward zero up to round n\n",
    "#check reward for the strategy selected in step 2, update number for specific strategy selected in step 2, do the same for zero reward\n",
    "        reward_ts =X[n,strategy_ts] #get this from matrix of rewards created in simulation\n",
    "#implement 2 conditions to get a number\n",
    "        if reward_ts == 1:\n",
    "            numbers_of_rewards_1[strategy_ts] = numbers_of_rewards_1[strategy_ts] + 1 # or numbers_of_rewards_1[strategy_ts] +=1\n",
    "        else:\n",
    "            numbers_of_rewards_0[strategy_ts] = numbers_of_rewards_0[strategy_ts] + 1 # numbers_of_rewards_0[strategy_ts] +=1  #only element of list corresponding to strategy selected\n",
    "        strategies_selected_ts.append(strategy_ts)\n",
    "        total_reward_ts = total_reward_ts + reward_ts # accumulated reward. Needed for comparison to  benchmark later in code\n",
    "    "
   ]
  },
  {
   "cell_type": "markdown",
   "metadata": {},
   "source": [
    "# Comparison of our Thompson Sampling vs Benchmark (random sampling)"
   ]
  },
  {
   "cell_type": "code",
   "execution_count": 167,
   "metadata": {},
   "outputs": [
    {
     "name": "stdout",
     "output_type": "stream",
     "text": [
      "The Absolute Return: 97200 $\n",
      "\n",
      "\n",
      "The Relative Return: 101 %\n"
     ]
    }
   ],
   "source": [
    "#Computing the Absolute and Relative Return(RR)\n",
    "#RR is the return an asset (i.e Thompson sampling) achieves over a period of time compared to a benchmark(i.e random strategy)\n",
    "#By what percentage more does it achieve this?\n",
    "absolute_return = (total_reward_ts - total_reward_rs) * 100\n",
    "relative_return = ((total_reward_ts - total_reward_rs) / total_reward_rs) * 100\n",
    "print(\"The Absolute Return: {:.0f} $\".format(absolute_return))\n",
    "print(\"\\n\")\n",
    "print(\"The Relative Return: {:.0f} %\".format(relative_return))"
   ]
  },
  {
   "cell_type": "code",
   "execution_count": 168,
   "metadata": {},
   "outputs": [
    {
     "data": {
      "text/plain": [
       "963.0"
      ]
     },
     "execution_count": 168,
     "metadata": {},
     "output_type": "execute_result"
    }
   ],
   "source": [
    "total_reward_rs"
   ]
  },
  {
   "cell_type": "code",
   "execution_count": 169,
   "metadata": {},
   "outputs": [
    {
     "data": {
      "text/plain": [
       "1935.0"
      ]
     },
     "execution_count": 169,
     "metadata": {},
     "output_type": "execute_result"
    }
   ],
   "source": [
    "total_reward_ts"
   ]
  },
  {
   "cell_type": "code",
   "execution_count": 155,
   "metadata": {},
   "outputs": [
    {
     "data": {
      "image/png": "[encoded data removed]",
      "text/plain": [
       "<Figure size 432x288 with 1 Axes>"
      ]
     },
     "metadata": {
      "needs_background": "light"
     },
     "output_type": "display_data"
    }
   ],
   "source": [
    "plt.hist(strategies_selected_ts)\n",
    "plt.title('Histogram of Selections')\n",
    "plt.xlabel('Strategy')\n",
    "plt.ylabel('Number of times the strategy was selected')\n",
    "plt.show() #note strategy 6 is actually strategy number 7"
   ]
  },
  {
   "cell_type": "markdown",
   "metadata": {},
   "source": [
    "# Conclusion: Thompson Sampling finds the best advertising strategies over Random Sampling even if the total number of rounds in which customers connect to the online website are reduced to 1000 rounds."
   ]
  },
  {
   "cell_type": "markdown",
   "metadata": {},
   "source": [
    "# Regret Curve of a model"
   ]
  },
  {
   "cell_type": "code",
   "execution_count": 158,
   "metadata": {},
   "outputs": [],
   "source": [
    "#The regret curve of a model (Random Strategy or Thompson Sampling) is the plot of the difference between the best strategy and the deployed model, with respect to the rounds.\n",
    "#best strategy is computed by simply getting, at each round, the maximum of the accumulated rewards over all the different strategies.\n",
    "rewards_strategies = [0] * d\n",
    "for n in range (0, N):\n",
    "    for i in range(0,d):\n",
    "        rewards_strategies[i] = rewards_strategies[i] + X[n, i]\n",
    "    total_reward_bs=max(rewards_strategies)"
   ]
  },
  {
   "cell_type": "code",
   "execution_count": 163,
   "metadata": {},
   "outputs": [],
   "source": [
    "#regret_TS = total_rewards_bs - total_reward_ts\n",
    "#1st find the regret of the Thompson Sampling\n",
    "# Regret of Thompson Sampling\n",
    "strategies_selected_ts = []\n",
    "total_reward_ts = 0\n",
    "total_reward_bs = 0\n",
    "numbers_of_rewards_1 = [0] * d\n",
    "numbers_of_rewards_0 = [0] * d\n",
    "rewards_strategies = [0] * d\n",
    "regret_TS = []\n",
    "for n in range(0, N):\n",
    "    # Thompson Sampling\n",
    "    strategy_ts = 0\n",
    "    max_random = 0\n",
    "    for i in range(0, d):\n",
    "        random_beta = random.betavariate(numbers_of_rewards_1[i] + 1,\n",
    "                                             numbers_of_rewards_0[i] + 1)\n",
    "        if random_beta > max_random:\n",
    "            max_random = random_beta\n",
    "            strategy_ts = i\n",
    "    reward_ts = X[n, strategy_ts]\n",
    "    if reward_ts == 1:\n",
    "        numbers_of_rewards_1[strategy_ts] = numbers_of_rewards_1[strategy_ts] + 1\n",
    "    else:\n",
    "        numbers_of_rewards_0[strategy_ts] = numbers_of_rewards_0[strategy_ts] + 1\n",
    "    strategies_selected_ts.append(strategy_ts)\n",
    "    total_reward_ts = total_reward_ts + reward_ts\n",
    "    # Best Strategy\n",
    "    for i in range(0, d):\n",
    "        rewards_strategies[i] = rewards_strategies[i] + X[n, i]\n",
    "    total_reward_bs = max(rewards_strategies)\n",
    "    # Regret\n",
    "    regret_TS.append(total_reward_bs - total_reward_ts)"
   ]
  },
  {
   "cell_type": "code",
   "execution_count": 161,
   "metadata": {},
   "outputs": [],
   "source": [
    "#repeat the above process for finding the regret of the Random Strategy\n",
    "# Regret of the Random Strategy\n",
    "strategies_selected_rs = []\n",
    "total_reward_rs = 0\n",
    "total_reward_bs = 0\n",
    "numbers_of_rewards_1 = [0] * d\n",
    "numbers_of_rewards_0 = [0] * d\n",
    "rewards_strategies = [0] * d\n",
    "regret = []\n",
    "for n in range(0, N):\n",
    "    # Random Strategy\n",
    "    strategy_rs = random.randrange(d)\n",
    "    strategies_selected_rs.append(strategy_rs)\n",
    "    reward_rs = X[n, strategy_rs]\n",
    "    total_reward_rs = total_reward_rs + reward_rs\n",
    "    # Best Strategy\n",
    "    for i in range(0, d):\n",
    "        rewards_strategies[i] = rewards_strategies[i] + X[n, i]\n",
    "    total_reward_bs = max(rewards_strategies)\n",
    "    # Regret\n",
    "    regret.append(total_reward_bs - total_reward_rs)"
   ]
  },
  {
   "cell_type": "code",
   "execution_count": 162,
   "metadata": {},
   "outputs": [
    {
     "data": {
      "image/png": "[encoded data removed]",
      "text/plain": [
       "<Figure size 432x288 with 1 Axes>"
      ]
     },
     "metadata": {
      "needs_background": "light"
     },
     "output_type": "display_data"
    }
   ],
   "source": [
    "# Plotting the Regret Curve. X-coordinates represent the rounds which are indexes from 0 to N\n",
    "plt.plot(regret)\n",
    "plt.title('Regret Curve')\n",
    "plt.xlabel('Round')\n",
    "plt.ylabel('Regret')\n",
    "plt.show()"
   ]
  },
  {
   "cell_type": "code",
   "execution_count": 164,
   "metadata": {},
   "outputs": [
    {
     "data": {
      "image/png": "[encoded data removed]",
      "text/plain": [
       "<Figure size 432x288 with 1 Axes>"
      ]
     },
     "metadata": {
      "needs_background": "light"
     },
     "output_type": "display_data"
    }
   ],
   "source": [
    "plt.plot(regret_TS)\n",
    "plt.title('Regret Curve')\n",
    "plt.xlabel('Round')\n",
    "plt.ylabel('Regret')\n",
    "plt.show()"
   ]
  },
  {
   "cell_type": "markdown",
   "metadata": {},
   "source": [
    "# Conclusion:\n",
    "\n",
    "We observe absolutely no convergence of the Random Strategy towards the Best Strategy.\n",
    "\n",
    "Thompson Sampling is converging very well towards the best strategy."
   ]
  },
  {
   "cell_type": "code",
   "execution_count": null,
   "metadata": {},
   "outputs": [],
   "source": [
    "# BTW Thompson sampling outperforms UCB algorithm as well"
   ]
  },
  {
   "cell_type": "markdown",
   "metadata": {},
   "source": [
    "# Addendum"
   ]
  },
  {
   "cell_type": "code",
   "execution_count": null,
   "metadata": {},
   "outputs": [],
   "source": [
    "conversion_rate=[0.05,0.13,0.09,0.16,0.11,0.04,0.2,0.08,0.01] # use this to demonstrate that the model works going from left to right"
   ]
  }
 ],
 "metadata": {
  "kernelspec": {
   "display_name": "Python 3",
   "language": "python",
   "name": "python3"
  },
  "language_info": {
   "codemirror_mode": {
    "name": "ipython",
    "version": 3
   },
   "file_extension": ".py",
   "mimetype": "text/x-python",
   "name": "python",
   "nbconvert_exporter": "python",
   "pygments_lexer": "ipython3",
   "version": "3.6.5"
  }
 },
 "nbformat": 4,
 "nbformat_minor": 2
}
